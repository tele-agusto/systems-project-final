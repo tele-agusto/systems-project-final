{
 "cells": [
  {
   "cell_type": "code",
   "execution_count": 1,
   "metadata": {
    "collapsed": true
   },
   "outputs": [],
   "source": [
    "import numpy as np\n",
    "import pandas as pd\n",
    "import matplotlib.pyplot as plt\n",
    "import seaborn as sns\n",
    "import os\n",
    "import gc\n",
    "\n",
    "import h5py\n",
    "import hdf5plugin"
   ]
  },
  {
   "cell_type": "code",
   "execution_count": 3,
   "outputs": [],
   "source": [
    "def convert_bytes(size):\n",
    "    \"\"\" Convert bytes to KB, or MB or GB\"\"\"\n",
    "    for x in ['bytes', 'KB', 'MB', 'GB', 'TB']:\n",
    "        if size < 1024.0:\n",
    "            return \"%3.1f %s\" % (size, x)\n",
    "        size /= 1024.0"
   ],
   "metadata": {
    "collapsed": false
   }
  },
  {
   "cell_type": "code",
   "execution_count": 4,
   "outputs": [
    {
     "name": "stdout",
     "output_type": "stream",
     "text": [
      "train_cite_inputs.h5 : 2.3 GB\n",
      "train_cite_targets.h5 : 36.8 MB\n",
      "train_multi_inputs.h5 : 10.6 GB\n",
      "train_multi_targets.h5 : 3.0 GB\n",
      "test_cite_inputs.h5 : 1.6 GB\n",
      "test_multi_inputs.h5 : 6.0 GB\n"
     ]
    }
   ],
   "source": [
    "file_list = [\n",
    "    'train_cite_inputs.h5',\n",
    "    'train_cite_targets.h5',\n",
    "    'train_multi_inputs.h5',\n",
    "    'train_multi_targets.h5',\n",
    "    'test_cite_inputs.h5',\n",
    "    'test_multi_inputs.h5'\n",
    "    ]\n",
    "for f in file_list:\n",
    "  f_path = f'/Users/tele/open-problems-multimodal/{f}'\n",
    "  f_size = os.path.getsize(f_path)\n",
    "  f_size_converted = convert_bytes(f_size)\n",
    "  print(f'{f} :', f_size_converted)"
   ],
   "metadata": {
    "collapsed": false
   }
  },
  {
   "cell_type": "code",
   "execution_count": 5,
   "outputs": [],
   "source": [
    "def load_h5_data(file):\n",
    "    path = f'/Users/tele/open-problems-multimodal/{file}'\n",
    "    f = h5py.File(path, 'r')\n",
    "    group = f[file[:-3]]\n",
    "\n",
    "    data = group['block0_values']\n",
    "\n",
    "    return data"
   ],
   "metadata": {
    "collapsed": false
   }
  },
  {
   "cell_type": "code",
   "execution_count": 23,
   "outputs": [],
   "source": [
    "def return_h5_path(file):\n",
    "    path = f'/Users/tele/open-problems-multimodal/{file}'\n",
    "    return path"
   ],
   "metadata": {
    "collapsed": false
   }
  },
  {
   "cell_type": "code",
   "execution_count": 24,
   "outputs": [],
   "source": [
    "train_cite_inputs_data = load_h5_data('train_cite_inputs.h5')\n",
    "train_cite_targets_data = load_h5_data('train_cite_targets.h5')"
   ],
   "metadata": {
    "collapsed": false
   }
  },
  {
   "cell_type": "code",
   "execution_count": 8,
   "outputs": [
    {
     "name": "stdout",
     "output_type": "stream",
     "text": [
      "[25, 26, 27, 28, 29, 30, 31, 32, 33, 34, 35, 36, 37, 38, 39, 40]\n",
      "[30, 31, 32, 33, 34, 35, 36, 37, 38, 39, 40, 41, 42, 43, 44, 45, 46, 47, 48, 49, 50, 51, 52, 53, 54, 55, 56, 57, 58, 59, 60, 61, 62, 63, 64, 65, 66, 67, 68, 69, 70, 71, 72, 73, 74, 75, 76, 77, 78, 79, 80, 81, 82, 83, 84, 85, 86, 87, 88, 89, 90, 91, 92, 93, 94, 95, 96, 97, 98, 99, 100]\n"
     ]
    }
   ],
   "source": [
    "estimator_grid = [0]*16\n",
    "feature_grid = [0]*71\n",
    "for i in range(0,16):\n",
    "    estimator_grid[i] = 25+i\n",
    "\n",
    "for i in range(0,71):\n",
    "    feature_grid[i] = 30+i\n",
    "\n",
    "print(estimator_grid)\n",
    "print(feature_grid)"
   ],
   "metadata": {
    "collapsed": false
   }
  },
  {
   "cell_type": "code",
   "execution_count": 9,
   "outputs": [
    {
     "name": "stdout",
     "output_type": "stream",
     "text": [
      "CPU times: user 51min 22s, sys: 35min, total: 1h 26min 23s\n",
      "Wall time: 4h 10s\n"
     ]
    },
    {
     "data": {
      "text/plain": "{'max_features': 93, 'n_estimators': 34}"
     },
     "execution_count": 9,
     "metadata": {},
     "output_type": "execute_result"
    }
   ],
   "source": [
    "%%time\n",
    "\n",
    "from sklearn.ensemble import RandomForestRegressor\n",
    "from sklearn.model_selection import cross_val_score\n",
    "#from sklearn.model_selection import RandomizedSearchCV\n",
    "from sklearn.experimental import enable_halving_search_cv  # noqa\n",
    "from sklearn.model_selection import HalvingGridSearchCV\n",
    "from numpy import random\n",
    "from scipy.stats import uniform\n",
    "import math\n",
    "\n",
    "forest = RandomForestRegressor(random_state=10, min_samples_leaf=10, n_jobs=1)\n",
    "#forest.fit(train_cite_inputs_data[0:56000, :], train_cite_targets_data[0:56000, :])\n",
    "distributions = dict(n_estimators=estimator_grid, max_features=feature_grid)\n",
    "\n",
    "#clf = RandomizedSearchCV(forest, distributions, random_state=10)\n",
    "clf = HalvingGridSearchCV(forest, distributions, resource='n_samples', random_state=10)\n",
    "\n",
    "search = clf.fit(train_cite_inputs_data[0:56000, :], train_cite_targets_data[0:56000, :])\n",
    "\n",
    "search.best_params_"
   ],
   "metadata": {
    "collapsed": false
   }
  },
  {
   "cell_type": "code",
   "execution_count": 182,
   "outputs": [],
   "source": [
    "import pickle\n",
    "pickle.dump(clf, open('baselinemodel.pkl', 'wb'))"
   ],
   "metadata": {
    "collapsed": false
   }
  },
  {
   "cell_type": "code",
   "execution_count": 11,
   "outputs": [],
   "source": [
    "cite_predictions = clf.predict(train_cite_inputs_data[56000:70988, :])"
   ],
   "metadata": {
    "collapsed": false
   }
  },
  {
   "cell_type": "code",
   "execution_count": 12,
   "outputs": [],
   "source": [
    "score = [0]*14988\n",
    "\n",
    "for i in range(0, 14988):\n",
    "    score[i] = np.corrcoef(cite_predictions[i, :], train_cite_targets_data[i + 56000, :])\n",
    "\n",
    "for i in range(0, 14988):\n",
    "    score[i] = score[i][0,1]"
   ],
   "metadata": {
    "collapsed": false
   }
  },
  {
   "cell_type": "code",
   "execution_count": 14,
   "outputs": [
    {
     "data": {
      "text/plain": "0.8601520550910503"
     },
     "execution_count": 14,
     "metadata": {},
     "output_type": "execute_result"
    }
   ],
   "source": [
    "np.mean(score)"
   ],
   "metadata": {
    "collapsed": false
   }
  },
  {
   "cell_type": "code",
   "execution_count": 15,
   "outputs": [],
   "source": [
    "score_gene = [0] * 140\n",
    "\n",
    "for i in range(0, 139):\n",
    "    score_gene[i] = np.corrcoef(cite_predictions[:, i], train_cite_targets_data[56000:70988, i])\n",
    "\n",
    "for i in range(0, 139):\n",
    "    score_gene[i] = score_gene[i][0, 1]"
   ],
   "metadata": {
    "collapsed": false
   }
  },
  {
   "cell_type": "code",
   "execution_count": 17,
   "outputs": [
    {
     "data": {
      "text/plain": "0.32244152836241907"
     },
     "execution_count": 17,
     "metadata": {},
     "output_type": "execute_result"
    }
   ],
   "source": [
    "np.mean(score_gene)"
   ],
   "metadata": {
    "collapsed": false
   }
  },
  {
   "cell_type": "code",
   "execution_count": 18,
   "outputs": [
    {
     "data": {
      "text/plain": "(array([2.0000e+00, 3.0000e+00, 5.0000e+00, 7.0000e+00, 1.9000e+01,\n        2.7000e+01, 4.1000e+01, 3.2700e+02, 3.8410e+03, 1.0716e+04]),\n array([-0.37165784, -0.23699895, -0.10234006,  0.03231884,  0.16697773,\n         0.30163662,  0.43629551,  0.5709544 ,  0.70561329,  0.84027218,\n         0.97493108]),\n <BarContainer object of 10 artists>)"
     },
     "execution_count": 18,
     "metadata": {},
     "output_type": "execute_result"
    },
    {
     "data": {
      "text/plain": "<Figure size 640x480 with 1 Axes>",
      "image/png": "[encoded data removed]"
     },
     "metadata": {},
     "output_type": "display_data"
    }
   ],
   "source": [
    "plt.hist(score)"
   ],
   "metadata": {
    "collapsed": false
   }
  },
  {
   "cell_type": "code",
   "execution_count": 19,
   "outputs": [
    {
     "data": {
      "text/plain": "(array([27., 24., 16., 16.,  8., 18.,  7., 15.,  8.,  1.]),\n array([0.        , 0.08749974, 0.17499947, 0.26249921, 0.34999895,\n        0.43749868, 0.52499842, 0.61249816, 0.6999979 , 0.78749763,\n        0.87499737]),\n <BarContainer object of 10 artists>)"
     },
     "execution_count": 19,
     "metadata": {},
     "output_type": "execute_result"
    },
    {
     "data": {
      "text/plain": "<Figure size 640x480 with 1 Axes>",
      "image/png": "[encoded data removed]"
     },
     "metadata": {},
     "output_type": "display_data"
    }
   ],
   "source": [
    "plt.hist(score_gene)"
   ],
   "metadata": {
    "collapsed": false
   }
  },
  {
   "cell_type": "code",
   "execution_count": 25,
   "outputs": [],
   "source": [
    "df_train_cite_targets = pd.read_hdf(return_h5_path('train_cite_targets.h5'))\n",
    "df_train_cite_inputs = pd.read_hdf(return_h5_path('train_cite_inputs.h5'))"
   ],
   "metadata": {
    "collapsed": false
   }
  },
  {
   "cell_type": "code",
   "execution_count": 26,
   "outputs": [],
   "source": [
    "cite_protein_names = list(df_train_cite_targets.columns)\n",
    "cite_gene_names = list(df_train_cite_inputs.columns)"
   ],
   "metadata": {
    "collapsed": false
   }
  },
  {
   "cell_type": "code",
   "execution_count": 27,
   "outputs": [],
   "source": [
    "matching_names = []\n",
    "\n",
    "for protein in cite_protein_names:\n",
    "    matching_names += [(gene, protein) for gene in cite_gene_names if protein in gene.split('_')]\n",
    "\n",
    "matching_names = pd.DataFrame(matching_names, columns=['Gene', 'Protein'])"
   ],
   "metadata": {
    "collapsed": false
   }
  },
  {
   "cell_type": "code",
   "execution_count": 28,
   "outputs": [
    {
     "data": {
      "text/plain": "                      Gene Protein\n0     ENSG00000114013_CD86    CD86\n1    ENSG00000120217_CD274   CD274\n2     ENSG00000196776_CD47    CD47\n3     ENSG00000117091_CD48    CD48\n4     ENSG00000101017_CD40    CD40\n5     ENSG00000169442_CD52    CD52\n6     ENSG00000177455_CD19    CD19\n7     ENSG00000105383_CD33    CD33\n8      ENSG00000173762_CD7     CD7\n9      ENSG00000010610_CD4     CD4\n10    ENSG00000026508_CD44    CD44\n11    ENSG00000170458_CD14    CD14\n12    ENSG00000110848_CD69    CD69\n13   ENSG00000139187_KLRG1   KLRG1\n14    ENSG00000139193_CD27    CD27\n15    ENSG00000116815_CD58    CD58\n16  ENSG00000168329_CX3CR1  CX3CR1\n17    ENSG00000272398_CD24    CD24\n18   ENSG00000122223_CD244   CD244\n19   ENSG00000177575_CD163   CD163\n20    ENSG00000112149_CD83    CD83\n21     ENSG00000116824_CD2     CD2\n22   ENSG00000150637_CD226   CD226\n23    ENSG00000110651_CD81    CD81\n24    ENSG00000004468_CD38    CD38\n25    ENSG00000012124_CD22    CD22\n26    ENSG00000135404_CD63    CD63\n27    ENSG00000135218_CD36    CD36\n28    ENSG00000137101_CD72    CD72\n29    ENSG00000125810_CD93    CD93\n30     ENSG00000010278_CD9     CD9\n31   ENSG00000204592_HLA-E   HLA-E\n32    ENSG00000085117_CD82    CD82\n33   ENSG00000134256_CD101   CD101",
      "text/html": "<div>\n<style scoped>\n    .dataframe tbody tr th:only-of-type {\n        vertical-align: middle;\n    }\n\n    .dataframe tbody tr th {\n        vertical-align: top;\n    }\n\n    .dataframe thead th {\n        text-align: right;\n    }\n</style>\n<table border=\"1\" class=\"dataframe\">\n  <thead>\n    <tr style=\"text-align: right;\">\n      <th></th>\n      <th>Gene</th>\n      <th>Protein</th>\n    </tr>\n  </thead>\n  <tbody>\n    <tr>\n      <th>0</th>\n      <td>ENSG00000114013_CD86</td>\n      <td>CD86</td>\n    </tr>\n    <tr>\n      <th>1</th>\n      <td>ENSG00000120217_CD274</td>\n      <td>CD274</td>\n    </tr>\n    <tr>\n      <th>2</th>\n      <td>ENSG00000196776_CD47</td>\n      <td>CD47</td>\n    </tr>\n    <tr>\n      <th>3</th>\n      <td>ENSG00000117091_CD48</td>\n      <td>CD48</td>\n    </tr>\n    <tr>\n      <th>4</th>\n      <td>ENSG00000101017_CD40</td>\n      <td>CD40</td>\n    </tr>\n    <tr>\n      <th>5</th>\n      <td>ENSG00000169442_CD52</td>\n      <td>CD52</td>\n    </tr>\n    <tr>\n      <th>6</th>\n      <td>ENSG00000177455_CD19</td>\n      <td>CD19</td>\n    </tr>\n    <tr>\n      <th>7</th>\n      <td>ENSG00000105383_CD33</td>\n      <td>CD33</td>\n    </tr>\n    <tr>\n      <th>8</th>\n      <td>ENSG00000173762_CD7</td>\n      <td>CD7</td>\n    </tr>\n    <tr>\n      <th>9</th>\n      <td>ENSG00000010610_CD4</td>\n      <td>CD4</td>\n    </tr>\n    <tr>\n      <th>10</th>\n      <td>ENSG00000026508_CD44</td>\n      <td>CD44</td>\n    </tr>\n    <tr>\n      <th>11</th>\n      <td>ENSG00000170458_CD14</td>\n      <td>CD14</td>\n    </tr>\n    <tr>\n      <th>12</th>\n      <td>ENSG00000110848_CD69</td>\n      <td>CD69</td>\n    </tr>\n    <tr>\n      <th>13</th>\n      <td>ENSG00000139187_KLRG1</td>\n      <td>KLRG1</td>\n    </tr>\n    <tr>\n      <th>14</th>\n      <td>ENSG00000139193_CD27</td>\n      <td>CD27</td>\n    </tr>\n    <tr>\n      <th>15</th>\n      <td>ENSG00000116815_CD58</td>\n      <td>CD58</td>\n    </tr>\n    <tr>\n      <th>16</th>\n      <td>ENSG00000168329_CX3CR1</td>\n      <td>CX3CR1</td>\n    </tr>\n    <tr>\n      <th>17</th>\n      <td>ENSG00000272398_CD24</td>\n      <td>CD24</td>\n    </tr>\n    <tr>\n      <th>18</th>\n      <td>ENSG00000122223_CD244</td>\n      <td>CD244</td>\n    </tr>\n    <tr>\n      <th>19</th>\n      <td>ENSG00000177575_CD163</td>\n      <td>CD163</td>\n    </tr>\n    <tr>\n      <th>20</th>\n      <td>ENSG00000112149_CD83</td>\n      <td>CD83</td>\n    </tr>\n    <tr>\n      <th>21</th>\n      <td>ENSG00000116824_CD2</td>\n      <td>CD2</td>\n    </tr>\n    <tr>\n      <th>22</th>\n      <td>ENSG00000150637_CD226</td>\n      <td>CD226</td>\n    </tr>\n    <tr>\n      <th>23</th>\n      <td>ENSG00000110651_CD81</td>\n      <td>CD81</td>\n    </tr>\n    <tr>\n      <th>24</th>\n      <td>ENSG00000004468_CD38</td>\n      <td>CD38</td>\n    </tr>\n    <tr>\n      <th>25</th>\n      <td>ENSG00000012124_CD22</td>\n      <td>CD22</td>\n    </tr>\n    <tr>\n      <th>26</th>\n      <td>ENSG00000135404_CD63</td>\n      <td>CD63</td>\n    </tr>\n    <tr>\n      <th>27</th>\n      <td>ENSG00000135218_CD36</td>\n      <td>CD36</td>\n    </tr>\n    <tr>\n      <th>28</th>\n      <td>ENSG00000137101_CD72</td>\n      <td>CD72</td>\n    </tr>\n    <tr>\n      <th>29</th>\n      <td>ENSG00000125810_CD93</td>\n      <td>CD93</td>\n    </tr>\n    <tr>\n      <th>30</th>\n      <td>ENSG00000010278_CD9</td>\n      <td>CD9</td>\n    </tr>\n    <tr>\n      <th>31</th>\n      <td>ENSG00000204592_HLA-E</td>\n      <td>HLA-E</td>\n    </tr>\n    <tr>\n      <th>32</th>\n      <td>ENSG00000085117_CD82</td>\n      <td>CD82</td>\n    </tr>\n    <tr>\n      <th>33</th>\n      <td>ENSG00000134256_CD101</td>\n      <td>CD101</td>\n    </tr>\n  </tbody>\n</table>\n</div>"
     },
     "execution_count": 28,
     "metadata": {},
     "output_type": "execute_result"
    }
   ],
   "source": [
    "matching_names"
   ],
   "metadata": {
    "collapsed": false
   }
  },
  {
   "cell_type": "code",
   "execution_count": 29,
   "outputs": [],
   "source": [
    "proteins_with_genes_indexes = []\n",
    "for protein in matching_names.Protein:\n",
    "    proteins_with_genes_indexes += [cite_protein_names.index(protein)]"
   ],
   "metadata": {
    "collapsed": false
   }
  },
  {
   "cell_type": "code",
   "execution_count": 30,
   "outputs": [],
   "source": [
    "score_proteins_with_genes = [0]*len(proteins_with_genes_indexes)\n",
    "for i in range(0, len(proteins_with_genes_indexes) - 1):\n",
    "    score_proteins_with_genes[i] = score_gene[proteins_with_genes_indexes[i]]"
   ],
   "metadata": {
    "collapsed": false
   }
  },
  {
   "cell_type": "code",
   "execution_count": 31,
   "outputs": [
    {
     "data": {
      "text/plain": "[0.3482621444506207,\n 0.14814771288644704,\n 0.5428195908961051,\n 0.7342266814999795,\n 0.4658214587545406,\n 0.4265877884913325,\n 0.12477703756461142,\n 0.4773098982809001,\n 0.08319024408046152,\n 0.21609695293573153,\n 0.6524911425222846,\n 0.15372706739291775,\n 0.30457159758288715,\n 0.18938478086838842,\n 0.05961024510275936,\n 0.5110571918296033,\n 0.09165715068453974,\n 0.11776455655041324,\n 0.6501811693308277,\n 0.05391698549287344,\n 0.1041119681199647,\n 0.11101824848290648,\n 0.31568070395035835,\n 0.5156294190890899,\n 0.6732762366950127,\n 0.19026133329350042,\n 0.5676969713814036,\n 0.7026647547779963,\n 0.5026092541925562,\n 0.30595634562296314,\n 0.6520874335141829,\n 0.1960303274958796,\n 0.6781538333817525,\n 0]"
     },
     "execution_count": 31,
     "metadata": {},
     "output_type": "execute_result"
    }
   ],
   "source": [
    "score_proteins_with_genes"
   ],
   "metadata": {
    "collapsed": false
   }
  },
  {
   "cell_type": "code",
   "execution_count": 32,
   "outputs": [],
   "source": [
    "df_genes_with_proteins = []\n",
    "for gene in matching_names.Gene:\n",
    "    df_genes_with_proteins += [(gene, np.mean(df_train_cite_inputs[gene]), np.mean(df_train_cite_targets[gene.split('_')[1]]))]\n"
   ],
   "metadata": {
    "collapsed": false
   }
  },
  {
   "cell_type": "code",
   "execution_count": 154,
   "outputs": [
    {
     "data": {
      "text/plain": "                      gene   avg_rna  avg_protein     score\n0     ENSG00000114013_CD86  0.057068     0.454768  0.348262\n1    ENSG00000120217_CD274  0.049584     0.466369  0.148148\n2     ENSG00000196776_CD47  3.958815     7.447880  0.542820\n3     ENSG00000117091_CD48  1.891457     4.052779  0.734227\n4     ENSG00000101017_CD40  0.309925     0.399293  0.465821\n5     ENSG00000169442_CD52  4.481572     0.840576  0.426588\n6     ENSG00000177455_CD19  0.039153     0.532907  0.124777\n7     ENSG00000105383_CD33  2.045114     7.514196  0.477310\n8      ENSG00000173762_CD7  0.326133     0.507866  0.083190\n9      ENSG00000010610_CD4  0.242839     0.774420  0.216097\n10    ENSG00000026508_CD44  3.499770    11.038615  0.652491\n11    ENSG00000170458_CD14  0.015534     0.330494  0.153727\n12    ENSG00000110848_CD69  0.711631     0.640085  0.304572\n13   ENSG00000139187_KLRG1  0.702203     1.170430  0.189385\n14    ENSG00000139193_CD27  0.011868     0.179600  0.059610\n15    ENSG00000116815_CD58  1.476926     3.254875  0.511057\n16  ENSG00000168329_CX3CR1  0.016318     0.432004  0.091657\n17    ENSG00000272398_CD24  0.129457     0.293956  0.117765\n18   ENSG00000122223_CD244  0.722593    10.286235  0.650181\n19   ENSG00000177575_CD163  0.009731     0.353938  0.053917\n20    ENSG00000112149_CD83  0.586075     0.565310  0.104112\n21     ENSG00000116824_CD2  0.055904     0.537294  0.111018\n22   ENSG00000150637_CD226  0.040657     0.744710  0.315681\n23    ENSG00000110651_CD81  5.183338     4.555521  0.515629\n24    ENSG00000004468_CD38  0.771957     3.304160  0.673276\n25    ENSG00000012124_CD22  0.135577     0.671387  0.190261\n26    ENSG00000135404_CD63  5.877821     3.823275  0.567697\n27    ENSG00000135218_CD36  0.838602     3.354393  0.702665\n28    ENSG00000137101_CD72  0.175123     2.124975  0.502609\n29    ENSG00000125810_CD93  0.221380     0.488977  0.305956\n30     ENSG00000010278_CD9  0.908075     4.385592  0.652087\n31   ENSG00000204592_HLA-E  4.396289     0.777902  0.196030\n32    ENSG00000085117_CD82  3.032361     5.375080  0.678154\n33   ENSG00000134256_CD101  0.013967     0.629204  0.000000",
      "text/html": "<div>\n<style scoped>\n    .dataframe tbody tr th:only-of-type {\n        vertical-align: middle;\n    }\n\n    .dataframe tbody tr th {\n        vertical-align: top;\n    }\n\n    .dataframe thead th {\n        text-align: right;\n    }\n</style>\n<table border=\"1\" class=\"dataframe\">\n  <thead>\n    <tr style=\"text-align: right;\">\n      <th></th>\n      <th>gene</th>\n      <th>avg_rna</th>\n      <th>avg_protein</th>\n      <th>score</th>\n    </tr>\n  </thead>\n  <tbody>\n    <tr>\n      <th>0</th>\n      <td>ENSG00000114013_CD86</td>\n      <td>0.057068</td>\n      <td>0.454768</td>\n      <td>0.348262</td>\n    </tr>\n    <tr>\n      <th>1</th>\n      <td>ENSG00000120217_CD274</td>\n      <td>0.049584</td>\n      <td>0.466369</td>\n      <td>0.148148</td>\n    </tr>\n    <tr>\n      <th>2</th>\n      <td>ENSG00000196776_CD47</td>\n      <td>3.958815</td>\n      <td>7.447880</td>\n      <td>0.542820</td>\n    </tr>\n    <tr>\n      <th>3</th>\n      <td>ENSG00000117091_CD48</td>\n      <td>1.891457</td>\n      <td>4.052779</td>\n      <td>0.734227</td>\n    </tr>\n    <tr>\n      <th>4</th>\n      <td>ENSG00000101017_CD40</td>\n      <td>0.309925</td>\n      <td>0.399293</td>\n      <td>0.465821</td>\n    </tr>\n    <tr>\n      <th>5</th>\n      <td>ENSG00000169442_CD52</td>\n      <td>4.481572</td>\n      <td>0.840576</td>\n      <td>0.426588</td>\n    </tr>\n    <tr>\n      <th>6</th>\n      <td>ENSG00000177455_CD19</td>\n      <td>0.039153</td>\n      <td>0.532907</td>\n      <td>0.124777</td>\n    </tr>\n    <tr>\n      <th>7</th>\n      <td>ENSG00000105383_CD33</td>\n      <td>2.045114</td>\n      <td>7.514196</td>\n      <td>0.477310</td>\n    </tr>\n    <tr>\n      <th>8</th>\n      <td>ENSG00000173762_CD7</td>\n      <td>0.326133</td>\n      <td>0.507866</td>\n      <td>0.083190</td>\n    </tr>\n    <tr>\n      <th>9</th>\n      <td>ENSG00000010610_CD4</td>\n      <td>0.242839</td>\n      <td>0.774420</td>\n      <td>0.216097</td>\n    </tr>\n    <tr>\n      <th>10</th>\n      <td>ENSG00000026508_CD44</td>\n      <td>3.499770</td>\n      <td>11.038615</td>\n      <td>0.652491</td>\n    </tr>\n    <tr>\n      <th>11</th>\n      <td>ENSG00000170458_CD14</td>\n      <td>0.015534</td>\n      <td>0.330494</td>\n      <td>0.153727</td>\n    </tr>\n    <tr>\n      <th>12</th>\n      <td>ENSG00000110848_CD69</td>\n      <td>0.711631</td>\n      <td>0.640085</td>\n      <td>0.304572</td>\n    </tr>\n    <tr>\n      <th>13</th>\n      <td>ENSG00000139187_KLRG1</td>\n      <td>0.702203</td>\n      <td>1.170430</td>\n      <td>0.189385</td>\n    </tr>\n    <tr>\n      <th>14</th>\n      <td>ENSG00000139193_CD27</td>\n      <td>0.011868</td>\n      <td>0.179600</td>\n      <td>0.059610</td>\n    </tr>\n    <tr>\n      <th>15</th>\n      <td>ENSG00000116815_CD58</td>\n      <td>1.476926</td>\n      <td>3.254875</td>\n      <td>0.511057</td>\n    </tr>\n    <tr>\n      <th>16</th>\n      <td>ENSG00000168329_CX3CR1</td>\n      <td>0.016318</td>\n      <td>0.432004</td>\n      <td>0.091657</td>\n    </tr>\n    <tr>\n      <th>17</th>\n      <td>ENSG00000272398_CD24</td>\n      <td>0.129457</td>\n      <td>0.293956</td>\n      <td>0.117765</td>\n    </tr>\n    <tr>\n      <th>18</th>\n      <td>ENSG00000122223_CD244</td>\n      <td>0.722593</td>\n      <td>10.286235</td>\n      <td>0.650181</td>\n    </tr>\n    <tr>\n      <th>19</th>\n      <td>ENSG00000177575_CD163</td>\n      <td>0.009731</td>\n      <td>0.353938</td>\n      <td>0.053917</td>\n    </tr>\n    <tr>\n      <th>20</th>\n      <td>ENSG00000112149_CD83</td>\n      <td>0.586075</td>\n      <td>0.565310</td>\n      <td>0.104112</td>\n    </tr>\n    <tr>\n      <th>21</th>\n      <td>ENSG00000116824_CD2</td>\n      <td>0.055904</td>\n      <td>0.537294</td>\n      <td>0.111018</td>\n    </tr>\n    <tr>\n      <th>22</th>\n      <td>ENSG00000150637_CD226</td>\n      <td>0.040657</td>\n      <td>0.744710</td>\n      <td>0.315681</td>\n    </tr>\n    <tr>\n      <th>23</th>\n      <td>ENSG00000110651_CD81</td>\n      <td>5.183338</td>\n      <td>4.555521</td>\n      <td>0.515629</td>\n    </tr>\n    <tr>\n      <th>24</th>\n      <td>ENSG00000004468_CD38</td>\n      <td>0.771957</td>\n      <td>3.304160</td>\n      <td>0.673276</td>\n    </tr>\n    <tr>\n      <th>25</th>\n      <td>ENSG00000012124_CD22</td>\n      <td>0.135577</td>\n      <td>0.671387</td>\n      <td>0.190261</td>\n    </tr>\n    <tr>\n      <th>26</th>\n      <td>ENSG00000135404_CD63</td>\n      <td>5.877821</td>\n      <td>3.823275</td>\n      <td>0.567697</td>\n    </tr>\n    <tr>\n      <th>27</th>\n      <td>ENSG00000135218_CD36</td>\n      <td>0.838602</td>\n      <td>3.354393</td>\n      <td>0.702665</td>\n    </tr>\n    <tr>\n      <th>28</th>\n      <td>ENSG00000137101_CD72</td>\n      <td>0.175123</td>\n      <td>2.124975</td>\n      <td>0.502609</td>\n    </tr>\n    <tr>\n      <th>29</th>\n      <td>ENSG00000125810_CD93</td>\n      <td>0.221380</td>\n      <td>0.488977</td>\n      <td>0.305956</td>\n    </tr>\n    <tr>\n      <th>30</th>\n      <td>ENSG00000010278_CD9</td>\n      <td>0.908075</td>\n      <td>4.385592</td>\n      <td>0.652087</td>\n    </tr>\n    <tr>\n      <th>31</th>\n      <td>ENSG00000204592_HLA-E</td>\n      <td>4.396289</td>\n      <td>0.777902</td>\n      <td>0.196030</td>\n    </tr>\n    <tr>\n      <th>32</th>\n      <td>ENSG00000085117_CD82</td>\n      <td>3.032361</td>\n      <td>5.375080</td>\n      <td>0.678154</td>\n    </tr>\n    <tr>\n      <th>33</th>\n      <td>ENSG00000134256_CD101</td>\n      <td>0.013967</td>\n      <td>0.629204</td>\n      <td>0.000000</td>\n    </tr>\n  </tbody>\n</table>\n</div>"
     },
     "execution_count": 154,
     "metadata": {},
     "output_type": "execute_result"
    }
   ],
   "source": [
    "df_genes_with_proteins"
   ],
   "metadata": {
    "collapsed": false
   }
  },
  {
   "cell_type": "code",
   "execution_count": 34,
   "outputs": [],
   "source": [
    "df_genes_with_proteins = pd.DataFrame(df_genes_with_proteins, columns = ('gene', 'avg_rna', 'avg_protein'))"
   ],
   "metadata": {
    "collapsed": false
   }
  },
  {
   "cell_type": "code",
   "execution_count": 35,
   "outputs": [],
   "source": [
    "df_genes_with_proteins['score'] = score_proteins_with_genes"
   ],
   "metadata": {
    "collapsed": false
   }
  },
  {
   "cell_type": "code",
   "execution_count": 36,
   "outputs": [
    {
     "data": {
      "text/plain": "                      gene   avg_rna  avg_protein     score\n0     ENSG00000114013_CD86  0.057068     0.454768  0.348262\n1    ENSG00000120217_CD274  0.049584     0.466369  0.148148\n2     ENSG00000196776_CD47  3.958815     7.447880  0.542820\n3     ENSG00000117091_CD48  1.891457     4.052779  0.734227\n4     ENSG00000101017_CD40  0.309925     0.399293  0.465821\n5     ENSG00000169442_CD52  4.481572     0.840576  0.426588\n6     ENSG00000177455_CD19  0.039153     0.532907  0.124777\n7     ENSG00000105383_CD33  2.045114     7.514196  0.477310\n8      ENSG00000173762_CD7  0.326133     0.507866  0.083190\n9      ENSG00000010610_CD4  0.242839     0.774420  0.216097\n10    ENSG00000026508_CD44  3.499770    11.038615  0.652491\n11    ENSG00000170458_CD14  0.015534     0.330494  0.153727\n12    ENSG00000110848_CD69  0.711631     0.640085  0.304572\n13   ENSG00000139187_KLRG1  0.702203     1.170430  0.189385\n14    ENSG00000139193_CD27  0.011868     0.179600  0.059610\n15    ENSG00000116815_CD58  1.476926     3.254875  0.511057\n16  ENSG00000168329_CX3CR1  0.016318     0.432004  0.091657\n17    ENSG00000272398_CD24  0.129457     0.293956  0.117765\n18   ENSG00000122223_CD244  0.722593    10.286235  0.650181\n19   ENSG00000177575_CD163  0.009731     0.353938  0.053917\n20    ENSG00000112149_CD83  0.586075     0.565310  0.104112\n21     ENSG00000116824_CD2  0.055904     0.537294  0.111018\n22   ENSG00000150637_CD226  0.040657     0.744710  0.315681\n23    ENSG00000110651_CD81  5.183338     4.555521  0.515629\n24    ENSG00000004468_CD38  0.771957     3.304160  0.673276\n25    ENSG00000012124_CD22  0.135577     0.671387  0.190261\n26    ENSG00000135404_CD63  5.877821     3.823275  0.567697\n27    ENSG00000135218_CD36  0.838602     3.354393  0.702665\n28    ENSG00000137101_CD72  0.175123     2.124975  0.502609\n29    ENSG00000125810_CD93  0.221380     0.488977  0.305956\n30     ENSG00000010278_CD9  0.908075     4.385592  0.652087\n31   ENSG00000204592_HLA-E  4.396289     0.777902  0.196030\n32    ENSG00000085117_CD82  3.032361     5.375080  0.678154\n33   ENSG00000134256_CD101  0.013967     0.629204  0.000000",
      "text/html": "<div>\n<style scoped>\n    .dataframe tbody tr th:only-of-type {\n        vertical-align: middle;\n    }\n\n    .dataframe tbody tr th {\n        vertical-align: top;\n    }\n\n    .dataframe thead th {\n        text-align: right;\n    }\n</style>\n<table border=\"1\" class=\"dataframe\">\n  <thead>\n    <tr style=\"text-align: right;\">\n      <th></th>\n      <th>gene</th>\n      <th>avg_rna</th>\n      <th>avg_protein</th>\n      <th>score</th>\n    </tr>\n  </thead>\n  <tbody>\n    <tr>\n      <th>0</th>\n      <td>ENSG00000114013_CD86</td>\n      <td>0.057068</td>\n      <td>0.454768</td>\n      <td>0.348262</td>\n    </tr>\n    <tr>\n      <th>1</th>\n      <td>ENSG00000120217_CD274</td>\n      <td>0.049584</td>\n      <td>0.466369</td>\n      <td>0.148148</td>\n    </tr>\n    <tr>\n      <th>2</th>\n      <td>ENSG00000196776_CD47</td>\n      <td>3.958815</td>\n      <td>7.447880</td>\n      <td>0.542820</td>\n    </tr>\n    <tr>\n      <th>3</th>\n      <td>ENSG00000117091_CD48</td>\n      <td>1.891457</td>\n      <td>4.052779</td>\n      <td>0.734227</td>\n    </tr>\n    <tr>\n      <th>4</th>\n      <td>ENSG00000101017_CD40</td>\n      <td>0.309925</td>\n      <td>0.399293</td>\n      <td>0.465821</td>\n    </tr>\n    <tr>\n      <th>5</th>\n      <td>ENSG00000169442_CD52</td>\n      <td>4.481572</td>\n      <td>0.840576</td>\n      <td>0.426588</td>\n    </tr>\n    <tr>\n      <th>6</th>\n      <td>ENSG00000177455_CD19</td>\n      <td>0.039153</td>\n      <td>0.532907</td>\n      <td>0.124777</td>\n    </tr>\n    <tr>\n      <th>7</th>\n      <td>ENSG00000105383_CD33</td>\n      <td>2.045114</td>\n      <td>7.514196</td>\n      <td>0.477310</td>\n    </tr>\n    <tr>\n      <th>8</th>\n      <td>ENSG00000173762_CD7</td>\n      <td>0.326133</td>\n      <td>0.507866</td>\n      <td>0.083190</td>\n    </tr>\n    <tr>\n      <th>9</th>\n      <td>ENSG00000010610_CD4</td>\n      <td>0.242839</td>\n      <td>0.774420</td>\n      <td>0.216097</td>\n    </tr>\n    <tr>\n      <th>10</th>\n      <td>ENSG00000026508_CD44</td>\n      <td>3.499770</td>\n      <td>11.038615</td>\n      <td>0.652491</td>\n    </tr>\n    <tr>\n      <th>11</th>\n      <td>ENSG00000170458_CD14</td>\n      <td>0.015534</td>\n      <td>0.330494</td>\n      <td>0.153727</td>\n    </tr>\n    <tr>\n      <th>12</th>\n      <td>ENSG00000110848_CD69</td>\n      <td>0.711631</td>\n      <td>0.640085</td>\n      <td>0.304572</td>\n    </tr>\n    <tr>\n      <th>13</th>\n      <td>ENSG00000139187_KLRG1</td>\n      <td>0.702203</td>\n      <td>1.170430</td>\n      <td>0.189385</td>\n    </tr>\n    <tr>\n      <th>14</th>\n      <td>ENSG00000139193_CD27</td>\n      <td>0.011868</td>\n      <td>0.179600</td>\n      <td>0.059610</td>\n    </tr>\n    <tr>\n      <th>15</th>\n      <td>ENSG00000116815_CD58</td>\n      <td>1.476926</td>\n      <td>3.254875</td>\n      <td>0.511057</td>\n    </tr>\n    <tr>\n      <th>16</th>\n      <td>ENSG00000168329_CX3CR1</td>\n      <td>0.016318</td>\n      <td>0.432004</td>\n      <td>0.091657</td>\n    </tr>\n    <tr>\n      <th>17</th>\n      <td>ENSG00000272398_CD24</td>\n      <td>0.129457</td>\n      <td>0.293956</td>\n      <td>0.117765</td>\n    </tr>\n    <tr>\n      <th>18</th>\n      <td>ENSG00000122223_CD244</td>\n      <td>0.722593</td>\n      <td>10.286235</td>\n      <td>0.650181</td>\n    </tr>\n    <tr>\n      <th>19</th>\n      <td>ENSG00000177575_CD163</td>\n      <td>0.009731</td>\n      <td>0.353938</td>\n      <td>0.053917</td>\n    </tr>\n    <tr>\n      <th>20</th>\n      <td>ENSG00000112149_CD83</td>\n      <td>0.586075</td>\n      <td>0.565310</td>\n      <td>0.104112</td>\n    </tr>\n    <tr>\n      <th>21</th>\n      <td>ENSG00000116824_CD2</td>\n      <td>0.055904</td>\n      <td>0.537294</td>\n      <td>0.111018</td>\n    </tr>\n    <tr>\n      <th>22</th>\n      <td>ENSG00000150637_CD226</td>\n      <td>0.040657</td>\n      <td>0.744710</td>\n      <td>0.315681</td>\n    </tr>\n    <tr>\n      <th>23</th>\n      <td>ENSG00000110651_CD81</td>\n      <td>5.183338</td>\n      <td>4.555521</td>\n      <td>0.515629</td>\n    </tr>\n    <tr>\n      <th>24</th>\n      <td>ENSG00000004468_CD38</td>\n      <td>0.771957</td>\n      <td>3.304160</td>\n      <td>0.673276</td>\n    </tr>\n    <tr>\n      <th>25</th>\n      <td>ENSG00000012124_CD22</td>\n      <td>0.135577</td>\n      <td>0.671387</td>\n      <td>0.190261</td>\n    </tr>\n    <tr>\n      <th>26</th>\n      <td>ENSG00000135404_CD63</td>\n      <td>5.877821</td>\n      <td>3.823275</td>\n      <td>0.567697</td>\n    </tr>\n    <tr>\n      <th>27</th>\n      <td>ENSG00000135218_CD36</td>\n      <td>0.838602</td>\n      <td>3.354393</td>\n      <td>0.702665</td>\n    </tr>\n    <tr>\n      <th>28</th>\n      <td>ENSG00000137101_CD72</td>\n      <td>0.175123</td>\n      <td>2.124975</td>\n      <td>0.502609</td>\n    </tr>\n    <tr>\n      <th>29</th>\n      <td>ENSG00000125810_CD93</td>\n      <td>0.221380</td>\n      <td>0.488977</td>\n      <td>0.305956</td>\n    </tr>\n    <tr>\n      <th>30</th>\n      <td>ENSG00000010278_CD9</td>\n      <td>0.908075</td>\n      <td>4.385592</td>\n      <td>0.652087</td>\n    </tr>\n    <tr>\n      <th>31</th>\n      <td>ENSG00000204592_HLA-E</td>\n      <td>4.396289</td>\n      <td>0.777902</td>\n      <td>0.196030</td>\n    </tr>\n    <tr>\n      <th>32</th>\n      <td>ENSG00000085117_CD82</td>\n      <td>3.032361</td>\n      <td>5.375080</td>\n      <td>0.678154</td>\n    </tr>\n    <tr>\n      <th>33</th>\n      <td>ENSG00000134256_CD101</td>\n      <td>0.013967</td>\n      <td>0.629204</td>\n      <td>0.000000</td>\n    </tr>\n  </tbody>\n</table>\n</div>"
     },
     "execution_count": 36,
     "metadata": {},
     "output_type": "execute_result"
    }
   ],
   "source": [
    "df_genes_with_proteins"
   ],
   "metadata": {
    "collapsed": false
   }
  },
  {
   "cell_type": "code",
   "execution_count": 38,
   "outputs": [
    {
     "data": {
      "text/plain": "(0.0, 2.0)"
     },
     "execution_count": 38,
     "metadata": {},
     "output_type": "execute_result"
    },
    {
     "data": {
      "text/plain": "<Figure size 640x480 with 1 Axes>",
      "image/png": "[encoded data removed]"
     },
     "metadata": {},
     "output_type": "display_data"
    }
   ],
   "source": [
    "plt.scatter(df_genes_with_proteins.avg_rna, df_genes_with_proteins.avg_protein, s=0.9, c=df_genes_with_proteins.score, cmap='gray')\n",
    "\n",
    "plt.xlim(0, 1)\n",
    "plt.ylim(0, 2)"
   ],
   "metadata": {
    "collapsed": false
   }
  },
  {
   "cell_type": "code",
   "execution_count": null,
   "outputs": [],
   "source": [
    "#Dimensionality reduction\n",
    "\n",
    "tSVD"
   ],
   "metadata": {
    "collapsed": false
   }
  },
  {
   "cell_type": "code",
   "execution_count": 109,
   "outputs": [],
   "source": [
    "#Cross-validation - take the donor id from training data, then crosscheck in metadata table for donor id\n",
    "\n",
    "df_meta = pd.read_csv('/Users/tele/open-problems-multimodal/metadata.csv', index_col='cell_id')\n",
    "df_meta_cite = df_meta[df_meta.technology==\"citeseq\"]\n",
    "#df_meta_cite = df_meta_cite[df_meta_cite.day!=10]\n",
    "df_meta_cite = df_meta_cite[df_meta_cite.day!=7]\n",
    "df_meta_cite_cv =  df_meta_cite[df_meta_cite.day==4]\n",
    "df_meta_cite_train =  df_meta_cite[df_meta_cite.day!=4]"
   ],
   "metadata": {
    "collapsed": false
   }
  },
  {
   "cell_type": "code",
   "execution_count": 145,
   "outputs": [
    {
     "data": {
      "text/plain": "Index(['45006fe3e4c8', 'd02759a80ba2', 'c016c6b0efa5', 'ba7f733a4f75',\n       'fbcf2443ffb2', 'd80d84ca8e89', '1ac2049b4c98', '33fb0c29e2e4',\n       'b329261bd0ee', '703762287e88',\n       ...\n       'f901120ab887', 'e3780c598532', '663da056425f', '10b466d6898b',\n       '4d22a430b2b8', '650ee456f0f3', 'cc506e7707f5', 'a91f1b55a520',\n       '3a9882c98205', 'c91b6b2ccd3d'],\n      dtype='object', name='cell_id', length=70988)"
     },
     "execution_count": 145,
     "metadata": {},
     "output_type": "execute_result"
    }
   ],
   "source": [
    "#df_meta_cite_cv.index\n",
    "#train_cite_inputs_data\n",
    "#df_meta_cite.day\n",
    "df_meta_cite_train.index[1]\n",
    "df_train_cite_inputs.loc[df_meta_cite_train.index[50000]]\n",
    "df_train_cite_inputs.index"
   ],
   "metadata": {
    "collapsed": false
   }
  },
  {
   "cell_type": "code",
   "execution_count": 1,
   "outputs": [],
   "source": [
    "#Either make two diff dfs for train and cv or add a column with days at the end\n",
    "#cite_train_set = pd.DataFrame(columns=df_train_cite_inputs.columns)\n",
    "#cite_cv_set = pd.DataFrame(columns=df_train_cite_inputs.columns)\n",
    "#for i in range(0, len(df_meta_cite_train)-1):\n",
    " #   if df_meta_cite_train.index[i] in df_train_cite_inputs.index:\n",
    "  #      cite_train_set = pd.concat([cite_train_set, df_train_cite_inputs.loc[df_meta_cite_train.index[i]].to_frame().T])\n",
    "   # else:\n",
    "    #    print(f'{i} is not in list')"
   ],
   "metadata": {
    "collapsed": false
   }
  },
  {
   "cell_type": "code",
   "execution_count": 178,
   "outputs": [
    {
     "data": {
      "text/plain": "gene_id       ENSG00000121410_A1BG  ENSG00000268895_A1BG-AS1  \\\n43f4024ab679                   0.0                       0.0   \n\ngene_id       ENSG00000175899_A2M  ENSG00000245105_A2M-AS1  \\\n43f4024ab679                  0.0                      0.0   \n\ngene_id       ENSG00000166535_A2ML1  ENSG00000128274_A4GALT  \\\n43f4024ab679                    0.0                     0.0   \n\ngene_id       ENSG00000094914_AAAS  ENSG00000081760_AACS  \\\n43f4024ab679              3.261203              3.934993   \n\ngene_id       ENSG00000109576_AADAT  ENSG00000103591_AAGAB  ...  \\\n43f4024ab679                    0.0               3.934993  ...   \n\ngene_id       ENSG00000153975_ZUP1  ENSG00000086827_ZW10  \\\n43f4024ab679                   0.0              3.261203   \n\ngene_id       ENSG00000174442_ZWILCH  ENSG00000122952_ZWINT  \\\n43f4024ab679                3.261203               4.618319   \n\ngene_id       ENSG00000198205_ZXDA  ENSG00000198455_ZXDB  \\\n43f4024ab679                   0.0                   0.0   \n\ngene_id       ENSG00000070476_ZXDC  ENSG00000162378_ZYG11B  \\\n43f4024ab679                   0.0                     0.0   \n\ngene_id       ENSG00000159840_ZYX  ENSG00000074755_ZZEF1  \n43f4024ab679                  0.0               3.261203  \n\n[1 rows x 22050 columns]",
      "text/html": "<div>\n<style scoped>\n    .dataframe tbody tr th:only-of-type {\n        vertical-align: middle;\n    }\n\n    .dataframe tbody tr th {\n        vertical-align: top;\n    }\n\n    .dataframe thead th {\n        text-align: right;\n    }\n</style>\n<table border=\"1\" class=\"dataframe\">\n  <thead>\n    <tr style=\"text-align: right;\">\n      <th>gene_id</th>\n      <th>ENSG00000121410_A1BG</th>\n      <th>ENSG00000268895_A1BG-AS1</th>\n      <th>ENSG00000175899_A2M</th>\n      <th>ENSG00000245105_A2M-AS1</th>\n      <th>ENSG00000166535_A2ML1</th>\n      <th>ENSG00000128274_A4GALT</th>\n      <th>ENSG00000094914_AAAS</th>\n      <th>ENSG00000081760_AACS</th>\n      <th>ENSG00000109576_AADAT</th>\n      <th>ENSG00000103591_AAGAB</th>\n      <th>...</th>\n      <th>ENSG00000153975_ZUP1</th>\n      <th>ENSG00000086827_ZW10</th>\n      <th>ENSG00000174442_ZWILCH</th>\n      <th>ENSG00000122952_ZWINT</th>\n      <th>ENSG00000198205_ZXDA</th>\n      <th>ENSG00000198455_ZXDB</th>\n      <th>ENSG00000070476_ZXDC</th>\n      <th>ENSG00000162378_ZYG11B</th>\n      <th>ENSG00000159840_ZYX</th>\n      <th>ENSG00000074755_ZZEF1</th>\n    </tr>\n  </thead>\n  <tbody>\n    <tr>\n      <th>43f4024ab679</th>\n      <td>0.0</td>\n      <td>0.0</td>\n      <td>0.0</td>\n      <td>0.0</td>\n      <td>0.0</td>\n      <td>0.0</td>\n      <td>3.261203</td>\n      <td>3.934993</td>\n      <td>0.0</td>\n      <td>3.934993</td>\n      <td>...</td>\n      <td>0.0</td>\n      <td>3.261203</td>\n      <td>3.261203</td>\n      <td>4.618319</td>\n      <td>0.0</td>\n      <td>0.0</td>\n      <td>0.0</td>\n      <td>0.0</td>\n      <td>0.0</td>\n      <td>3.261203</td>\n    </tr>\n  </tbody>\n</table>\n<p>1 rows × 22050 columns</p>\n</div>"
     },
     "execution_count": 178,
     "metadata": {},
     "output_type": "execute_result"
    }
   ],
   "source": [
    "df_train_cite_inputs.loc[df_meta_cite_train.index[15000]].to_frame().T"
   ],
   "metadata": {
    "collapsed": false
   }
  },
  {
   "cell_type": "code",
   "execution_count": 173,
   "outputs": [
    {
     "data": {
      "text/plain": "gene_id\nENSG00000121410_A1BG        0.000000\nENSG00000268895_A1BG-AS1    0.000000\nENSG00000175899_A2M         0.000000\nENSG00000245105_A2M-AS1     0.000000\nENSG00000166535_A2ML1       0.000000\n                              ...   \nENSG00000198455_ZXDB        0.000000\nENSG00000070476_ZXDC        0.000000\nENSG00000162378_ZYG11B      0.000000\nENSG00000159840_ZYX         0.000000\nENSG00000074755_ZZEF1       3.261203\nName: 43f4024ab679, Length: 22050, dtype: float32"
     },
     "execution_count": 173,
     "metadata": {},
     "output_type": "execute_result"
    }
   ],
   "source": [
    "df_train_cite_inputs.loc[df_meta_cite_train.index[15000]]"
   ],
   "metadata": {
    "collapsed": false
   }
  },
  {
   "cell_type": "code",
   "execution_count": 179,
   "outputs": [
    {
     "data": {
      "text/plain": "Empty DataFrame\nColumns: [ENSG00000121410_A1BG, ENSG00000268895_A1BG-AS1, ENSG00000175899_A2M, ENSG00000245105_A2M-AS1, ENSG00000166535_A2ML1, ENSG00000128274_A4GALT, ENSG00000094914_AAAS, ENSG00000081760_AACS, ENSG00000109576_AADAT, ENSG00000103591_AAGAB, ENSG00000115977_AAK1, ENSG00000087884_AAMDC, ENSG00000127837_AAMP, ENSG00000129673_AANAT, ENSG00000131043_AAR2, ENSG00000205002_AARD, ENSG00000090861_AARS, ENSG00000124608_AARS2, ENSG00000266967_AARSD1, ENSG00000157426_AASDH, ENSG00000149313_AASDHPPT, ENSG00000008311_AASS, ENSG00000215458_AATBC, ENSG00000275700_AATF, ENSG00000181409_AATK, ENSG00000281376_ABALON, ENSG00000183044_ABAT, ENSG00000165029_ABCA1, ENSG00000154263_ABCA10, ENSG00000251595_ABCA11P, ENSG00000179869_ABCA13, ENSG00000238098_ABCA17P, ENSG00000107331_ABCA2, ENSG00000167972_ABCA3, ENSG00000154265_ABCA5, ENSG00000154262_ABCA6, ENSG00000064687_ABCA7, ENSG00000085563_ABCB1, ENSG00000135776_ABCB10, ENSG00000073734_ABCB11, ENSG00000005471_ABCB4, ENSG00000115657_ABCB6, ENSG00000131269_ABCB7, ENSG00000197150_ABCB8, ENSG00000150967_ABCB9, ENSG00000103222_ABCC1, ENSG00000124574_ABCC10, ENSG00000243064_ABCC13, ENSG00000023839_ABCC2, ENSG00000108846_ABCC3, ENSG00000125257_ABCC4, ENSG00000114770_ABCC5, ENSG00000091262_ABCC6, ENSG00000101986_ABCD1, ENSG00000117528_ABCD3, ENSG00000119688_ABCD4, ENSG00000164163_ABCE1, ENSG00000204574_ABCF1, ENSG00000033050_ABCF2, ENSG00000161204_ABCF3, ENSG00000160179_ABCG1, ENSG00000118777_ABCG2, ENSG00000143921_ABCG8, ENSG00000143994_ABHD1, ENSG00000144827_ABHD10, ENSG00000106077_ABHD11, ENSG00000225969_ABHD11-AS1, ENSG00000100997_ABHD12, ENSG00000131969_ABHD12B, ENSG00000139826_ABHD13, ENSG00000248487_ABHD14A, ENSG00000114786_ABHD14A-ACY1, ENSG00000114779_ABHD14B, ENSG00000168792_ABHD15, ENSG00000264031_ABHD15-AS1, ENSG00000204427_ABHD16A, ENSG00000129968_ABHD17A, ENSG00000250536_ABHD17AP3, ENSG00000107362_ABHD17B, ENSG00000136379_ABHD17C, ENSG00000164074_ABHD18, ENSG00000140526_ABHD2, ENSG00000158201_ABHD3, ENSG00000100439_ABHD4, ENSG00000011198_ABHD5, ENSG00000163686_ABHD6, ENSG00000127220_ABHD8, ENSG00000136754_ABI1, ENSG00000138443_ABI2, ENSG00000108798_ABI3, ENSG00000154175_ABI3BP, ENSG00000097007_ABL1, ENSG00000143322_ABL2, ENSG00000099204_ABLIM1, ENSG00000173210_ABLIM3, ENSG00000175164_ABO, ENSG00000159842_ABR, ENSG00000146386_ABRACL, ENSG00000163322_ABRAXAS1, ENSG00000165660_ABRAXAS2, ...]\nIndex: []\n\n[0 rows x 22050 columns]",
      "text/html": "<div>\n<style scoped>\n    .dataframe tbody tr th:only-of-type {\n        vertical-align: middle;\n    }\n\n    .dataframe tbody tr th {\n        vertical-align: top;\n    }\n\n    .dataframe thead th {\n        text-align: right;\n    }\n</style>\n<table border=\"1\" class=\"dataframe\">\n  <thead>\n    <tr style=\"text-align: right;\">\n      <th>gene_id</th>\n      <th>ENSG00000121410_A1BG</th>\n      <th>ENSG00000268895_A1BG-AS1</th>\n      <th>ENSG00000175899_A2M</th>\n      <th>ENSG00000245105_A2M-AS1</th>\n      <th>ENSG00000166535_A2ML1</th>\n      <th>ENSG00000128274_A4GALT</th>\n      <th>ENSG00000094914_AAAS</th>\n      <th>ENSG00000081760_AACS</th>\n      <th>ENSG00000109576_AADAT</th>\n      <th>ENSG00000103591_AAGAB</th>\n      <th>...</th>\n      <th>ENSG00000153975_ZUP1</th>\n      <th>ENSG00000086827_ZW10</th>\n      <th>ENSG00000174442_ZWILCH</th>\n      <th>ENSG00000122952_ZWINT</th>\n      <th>ENSG00000198205_ZXDA</th>\n      <th>ENSG00000198455_ZXDB</th>\n      <th>ENSG00000070476_ZXDC</th>\n      <th>ENSG00000162378_ZYG11B</th>\n      <th>ENSG00000159840_ZYX</th>\n      <th>ENSG00000074755_ZZEF1</th>\n    </tr>\n  </thead>\n  <tbody>\n  </tbody>\n</table>\n<p>0 rows × 22050 columns</p>\n</div>"
     },
     "execution_count": 179,
     "metadata": {},
     "output_type": "execute_result"
    }
   ],
   "source": [
    "cite_train_set"
   ],
   "metadata": {
    "collapsed": false
   }
  },
  {
   "cell_type": "code",
   "execution_count": 165,
   "outputs": [
    {
     "data": {
      "text/plain": "Index(['c2150f55becb', '65b7edf8a4da', 'c1b26cb1057b', '917168fa6f83',\n       '2b29feeca86d', '0fd801488185', '526647a698f8', 'ab8f207a3dec',\n       '57f730249c87', '08df3dcce25c',\n       ...\n       'f39651a917eb', 'c32679d7f1d0', '763fcb1c53eb', 'a8e462a6198d',\n       '41f5809b67d1', '0169f964147e', '7203b2ace768', '834449e1a23d',\n       '769790e1b39a', 'e7012ac38766'],\n      dtype='object', name='cell_id', length=56807)"
     },
     "execution_count": 165,
     "metadata": {},
     "output_type": "execute_result"
    }
   ],
   "source": [
    "df_meta_cite_train.index"
   ],
   "metadata": {
    "collapsed": false
   }
  },
  {
   "cell_type": "code",
   "execution_count": 166,
   "outputs": [
    {
     "data": {
      "text/plain": "Index(['45006fe3e4c8', 'd02759a80ba2', 'c016c6b0efa5', 'ba7f733a4f75',\n       'fbcf2443ffb2', 'd80d84ca8e89', '1ac2049b4c98', '33fb0c29e2e4',\n       'b329261bd0ee', '703762287e88',\n       ...\n       'f901120ab887', 'e3780c598532', '663da056425f', '10b466d6898b',\n       '4d22a430b2b8', '650ee456f0f3', 'cc506e7707f5', 'a91f1b55a520',\n       '3a9882c98205', 'c91b6b2ccd3d'],\n      dtype='object', name='cell_id', length=70988)"
     },
     "execution_count": 166,
     "metadata": {},
     "output_type": "execute_result"
    }
   ],
   "source": [
    "df_train_cite_inputs.index"
   ],
   "metadata": {
    "collapsed": false
   }
  },
  {
   "cell_type": "code",
   "execution_count": 69,
   "outputs": [
    {
     "data": {
      "text/plain": "gene_id       ENSG00000121410_A1BG  ENSG00000268895_A1BG-AS1  \\\ncell_id                                                        \n45006fe3e4c8                   0.0                       0.0   \nd02759a80ba2                   0.0                       0.0   \nc016c6b0efa5                   0.0                       0.0   \nba7f733a4f75                   0.0                       0.0   \nfbcf2443ffb2                   0.0                       0.0   \n...                            ...                       ...   \n650ee456f0f3                   0.0                       0.0   \ncc506e7707f5                   0.0                       0.0   \na91f1b55a520                   0.0                       0.0   \n3a9882c98205                   0.0                       0.0   \nc91b6b2ccd3d                   0.0                       0.0   \n\ngene_id       ENSG00000175899_A2M  ENSG00000245105_A2M-AS1  \\\ncell_id                                                      \n45006fe3e4c8                  0.0                      0.0   \nd02759a80ba2                  0.0                      0.0   \nc016c6b0efa5                  0.0                      0.0   \nba7f733a4f75                  0.0                      0.0   \nfbcf2443ffb2                  0.0                      0.0   \n...                           ...                      ...   \n650ee456f0f3                  0.0                      0.0   \ncc506e7707f5                  0.0                      0.0   \na91f1b55a520                  0.0                      0.0   \n3a9882c98205                  0.0                      0.0   \nc91b6b2ccd3d                  0.0                      0.0   \n\ngene_id       ENSG00000166535_A2ML1  ENSG00000128274_A4GALT  \\\ncell_id                                                       \n45006fe3e4c8                    0.0                0.000000   \nd02759a80ba2                    0.0                0.000000   \nc016c6b0efa5                    0.0                3.847321   \nba7f733a4f75                    0.0                0.000000   \nfbcf2443ffb2                    0.0                0.000000   \n...                             ...                     ...   \n650ee456f0f3                    0.0                0.000000   \ncc506e7707f5                    0.0                0.000000   \na91f1b55a520                    0.0                0.000000   \n3a9882c98205                    0.0                0.000000   \nc91b6b2ccd3d                    0.0                0.000000   \n\ngene_id       ENSG00000094914_AAAS  ENSG00000081760_AACS  \\\ncell_id                                                    \n45006fe3e4c8              0.000000              0.000000   \nd02759a80ba2              0.000000              0.000000   \nc016c6b0efa5              0.000000              3.847321   \nba7f733a4f75              3.436846              3.436846   \nfbcf2443ffb2              0.000000              4.196826   \n...                            ...                   ...   \n650ee456f0f3              0.000000              0.000000   \ncc506e7707f5              3.981467              4.665241   \na91f1b55a520              0.000000              4.497696   \n3a9882c98205              3.900907              0.000000   \nc91b6b2ccd3d              0.000000              0.000000   \n\ngene_id       ENSG00000109576_AADAT  ENSG00000103591_AAGAB  ...  \\\ncell_id                                                     ...   \n45006fe3e4c8               0.000000               0.000000  ...   \nd02759a80ba2               0.000000               0.000000  ...   \nc016c6b0efa5               3.847321               0.000000  ...   \nba7f733a4f75               0.000000               0.000000  ...   \nfbcf2443ffb2               0.000000               0.000000  ...   \n...                             ...                    ...  ...   \n650ee456f0f3               0.000000               0.000000  ...   \ncc506e7707f5               0.000000               0.000000  ...   \na91f1b55a520               0.000000               4.497696  ...   \n3a9882c98205               0.000000               4.583891  ...   \nc91b6b2ccd3d               0.000000               0.000000  ...   \n\ngene_id       ENSG00000153975_ZUP1  ENSG00000086827_ZW10  \\\ncell_id                                                    \n45006fe3e4c8              0.000000              0.000000   \nd02759a80ba2              0.000000              0.000000   \nc016c6b0efa5              0.000000              0.000000   \nba7f733a4f75              3.436846              0.000000   \nfbcf2443ffb2              0.000000              4.196826   \n...                            ...                   ...   \n650ee456f0f3              0.000000              4.397535   \ncc506e7707f5              3.981467              0.000000   \na91f1b55a520              0.000000              0.000000   \n3a9882c98205              0.000000              0.000000   \nc91b6b2ccd3d              4.189502              0.000000   \n\ngene_id       ENSG00000174442_ZWILCH  ENSG00000122952_ZWINT  \\\ncell_id                                                       \n45006fe3e4c8                0.000000               0.000000   \nd02759a80ba2                0.000000               4.039545   \nc016c6b0efa5                3.847321               4.529743   \nba7f733a4f75                4.113780               5.020215   \nfbcf2443ffb2                4.196826               4.196826   \n...                              ...                    ...   \n650ee456f0f3                4.397535               5.084510   \ncc506e7707f5                4.665241               3.981467   \na91f1b55a520                0.000000               4.497696   \n3a9882c98205                4.583891               4.985945   \nc91b6b2ccd3d                0.000000               4.189502   \n\ngene_id       ENSG00000198205_ZXDA  ENSG00000198455_ZXDB  \\\ncell_id                                                    \n45006fe3e4c8                   0.0                   0.0   \nd02759a80ba2                   0.0                   0.0   \nc016c6b0efa5                   0.0                   0.0   \nba7f733a4f75                   0.0                   0.0   \nfbcf2443ffb2                   0.0                   0.0   \n...                            ...                   ...   \n650ee456f0f3                   0.0                   0.0   \ncc506e7707f5                   0.0                   0.0   \na91f1b55a520                   0.0                   0.0   \n3a9882c98205                   0.0                   0.0   \nc91b6b2ccd3d                   0.0                   0.0   \n\ngene_id       ENSG00000070476_ZXDC  ENSG00000162378_ZYG11B  \\\ncell_id                                                      \n45006fe3e4c8              0.000000                0.000000   \nd02759a80ba2              0.000000                0.000000   \nc016c6b0efa5              0.000000                3.847321   \nba7f733a4f75              0.000000                3.436846   \nfbcf2443ffb2              3.518610                4.196826   \n...                            ...                     ...   \n650ee456f0f3              0.000000                0.000000   \ncc506e7707f5              0.000000                0.000000   \na91f1b55a520              3.815622                4.497696   \n3a9882c98205              0.000000                0.000000   \nc91b6b2ccd3d              0.000000                0.000000   \n\ngene_id       ENSG00000159840_ZYX  ENSG00000074755_ZZEF1  \ncell_id                                                   \n45006fe3e4c8             4.090185               0.000000  \nd02759a80ba2             0.000000               0.000000  \nc016c6b0efa5             3.847321               0.000000  \nba7f733a4f75             4.113780               0.000000  \nfbcf2443ffb2             3.518610               0.000000  \n...                           ...                    ...  \n650ee456f0f3             4.397535               4.397535  \ncc506e7707f5             3.981467               0.000000  \na91f1b55a520             0.000000               0.000000  \n3a9882c98205             0.000000               3.900907  \nc91b6b2ccd3d             4.189502               4.189502  \n\n[70988 rows x 22050 columns]",
      "text/html": "<div>\n<style scoped>\n    .dataframe tbody tr th:only-of-type {\n        vertical-align: middle;\n    }\n\n    .dataframe tbody tr th {\n        vertical-align: top;\n    }\n\n    .dataframe thead th {\n        text-align: right;\n    }\n</style>\n<table border=\"1\" class=\"dataframe\">\n  <thead>\n    <tr style=\"text-align: right;\">\n      <th>gene_id</th>\n      <th>ENSG00000121410_A1BG</th>\n      <th>ENSG00000268895_A1BG-AS1</th>\n      <th>ENSG00000175899_A2M</th>\n      <th>ENSG00000245105_A2M-AS1</th>\n      <th>ENSG00000166535_A2ML1</th>\n      <th>ENSG00000128274_A4GALT</th>\n      <th>ENSG00000094914_AAAS</th>\n      <th>ENSG00000081760_AACS</th>\n      <th>ENSG00000109576_AADAT</th>\n      <th>ENSG00000103591_AAGAB</th>\n      <th>...</th>\n      <th>ENSG00000153975_ZUP1</th>\n      <th>ENSG00000086827_ZW10</th>\n      <th>ENSG00000174442_ZWILCH</th>\n      <th>ENSG00000122952_ZWINT</th>\n      <th>ENSG00000198205_ZXDA</th>\n      <th>ENSG00000198455_ZXDB</th>\n      <th>ENSG00000070476_ZXDC</th>\n      <th>ENSG00000162378_ZYG11B</th>\n      <th>ENSG00000159840_ZYX</th>\n      <th>ENSG00000074755_ZZEF1</th>\n    </tr>\n    <tr>\n      <th>cell_id</th>\n      <th></th>\n      <th></th>\n      <th></th>\n      <th></th>\n      <th></th>\n      <th></th>\n      <th></th>\n      <th></th>\n      <th></th>\n      <th></th>\n      <th></th>\n      <th></th>\n      <th></th>\n      <th></th>\n      <th></th>\n      <th></th>\n      <th></th>\n      <th></th>\n      <th></th>\n      <th></th>\n      <th></th>\n    </tr>\n  </thead>\n  <tbody>\n    <tr>\n      <th>45006fe3e4c8</th>\n      <td>0.0</td>\n      <td>0.0</td>\n      <td>0.0</td>\n      <td>0.0</td>\n      <td>0.0</td>\n      <td>0.000000</td>\n      <td>0.000000</td>\n      <td>0.000000</td>\n      <td>0.000000</td>\n      <td>0.000000</td>\n      <td>...</td>\n      <td>0.000000</td>\n      <td>0.000000</td>\n      <td>0.000000</td>\n      <td>0.000000</td>\n      <td>0.0</td>\n      <td>0.0</td>\n      <td>0.000000</td>\n      <td>0.000000</td>\n      <td>4.090185</td>\n      <td>0.000000</td>\n    </tr>\n    <tr>\n      <th>d02759a80ba2</th>\n      <td>0.0</td>\n      <td>0.0</td>\n      <td>0.0</td>\n      <td>0.0</td>\n      <td>0.0</td>\n      <td>0.000000</td>\n      <td>0.000000</td>\n      <td>0.000000</td>\n      <td>0.000000</td>\n      <td>0.000000</td>\n      <td>...</td>\n      <td>0.000000</td>\n      <td>0.000000</td>\n      <td>0.000000</td>\n      <td>4.039545</td>\n      <td>0.0</td>\n      <td>0.0</td>\n      <td>0.000000</td>\n      <td>0.000000</td>\n      <td>0.000000</td>\n      <td>0.000000</td>\n    </tr>\n    <tr>\n      <th>c016c6b0efa5</th>\n      <td>0.0</td>\n      <td>0.0</td>\n      <td>0.0</td>\n      <td>0.0</td>\n      <td>0.0</td>\n      <td>3.847321</td>\n      <td>0.000000</td>\n      <td>3.847321</td>\n      <td>3.847321</td>\n      <td>0.000000</td>\n      <td>...</td>\n      <td>0.000000</td>\n      <td>0.000000</td>\n      <td>3.847321</td>\n      <td>4.529743</td>\n      <td>0.0</td>\n      <td>0.0</td>\n      <td>0.000000</td>\n      <td>3.847321</td>\n      <td>3.847321</td>\n      <td>0.000000</td>\n    </tr>\n    <tr>\n      <th>ba7f733a4f75</th>\n      <td>0.0</td>\n      <td>0.0</td>\n      <td>0.0</td>\n      <td>0.0</td>\n      <td>0.0</td>\n      <td>0.000000</td>\n      <td>3.436846</td>\n      <td>3.436846</td>\n      <td>0.000000</td>\n      <td>0.000000</td>\n      <td>...</td>\n      <td>3.436846</td>\n      <td>0.000000</td>\n      <td>4.113780</td>\n      <td>5.020215</td>\n      <td>0.0</td>\n      <td>0.0</td>\n      <td>0.000000</td>\n      <td>3.436846</td>\n      <td>4.113780</td>\n      <td>0.000000</td>\n    </tr>\n    <tr>\n      <th>fbcf2443ffb2</th>\n      <td>0.0</td>\n      <td>0.0</td>\n      <td>0.0</td>\n      <td>0.0</td>\n      <td>0.0</td>\n      <td>0.000000</td>\n      <td>0.000000</td>\n      <td>4.196826</td>\n      <td>0.000000</td>\n      <td>0.000000</td>\n      <td>...</td>\n      <td>0.000000</td>\n      <td>4.196826</td>\n      <td>4.196826</td>\n      <td>4.196826</td>\n      <td>0.0</td>\n      <td>0.0</td>\n      <td>3.518610</td>\n      <td>4.196826</td>\n      <td>3.518610</td>\n      <td>0.000000</td>\n    </tr>\n    <tr>\n      <th>...</th>\n      <td>...</td>\n      <td>...</td>\n      <td>...</td>\n      <td>...</td>\n      <td>...</td>\n      <td>...</td>\n      <td>...</td>\n      <td>...</td>\n      <td>...</td>\n      <td>...</td>\n      <td>...</td>\n      <td>...</td>\n      <td>...</td>\n      <td>...</td>\n      <td>...</td>\n      <td>...</td>\n      <td>...</td>\n      <td>...</td>\n      <td>...</td>\n      <td>...</td>\n      <td>...</td>\n    </tr>\n    <tr>\n      <th>650ee456f0f3</th>\n      <td>0.0</td>\n      <td>0.0</td>\n      <td>0.0</td>\n      <td>0.0</td>\n      <td>0.0</td>\n      <td>0.000000</td>\n      <td>0.000000</td>\n      <td>0.000000</td>\n      <td>0.000000</td>\n      <td>0.000000</td>\n      <td>...</td>\n      <td>0.000000</td>\n      <td>4.397535</td>\n      <td>4.397535</td>\n      <td>5.084510</td>\n      <td>0.0</td>\n      <td>0.0</td>\n      <td>0.000000</td>\n      <td>0.000000</td>\n      <td>4.397535</td>\n      <td>4.397535</td>\n    </tr>\n    <tr>\n      <th>cc506e7707f5</th>\n      <td>0.0</td>\n      <td>0.0</td>\n      <td>0.0</td>\n      <td>0.0</td>\n      <td>0.0</td>\n      <td>0.000000</td>\n      <td>3.981467</td>\n      <td>4.665241</td>\n      <td>0.000000</td>\n      <td>0.000000</td>\n      <td>...</td>\n      <td>3.981467</td>\n      <td>0.000000</td>\n      <td>4.665241</td>\n      <td>3.981467</td>\n      <td>0.0</td>\n      <td>0.0</td>\n      <td>0.000000</td>\n      <td>0.000000</td>\n      <td>3.981467</td>\n      <td>0.000000</td>\n    </tr>\n    <tr>\n      <th>a91f1b55a520</th>\n      <td>0.0</td>\n      <td>0.0</td>\n      <td>0.0</td>\n      <td>0.0</td>\n      <td>0.0</td>\n      <td>0.000000</td>\n      <td>0.000000</td>\n      <td>4.497696</td>\n      <td>0.000000</td>\n      <td>4.497696</td>\n      <td>...</td>\n      <td>0.000000</td>\n      <td>0.000000</td>\n      <td>0.000000</td>\n      <td>4.497696</td>\n      <td>0.0</td>\n      <td>0.0</td>\n      <td>3.815622</td>\n      <td>4.497696</td>\n      <td>0.000000</td>\n      <td>0.000000</td>\n    </tr>\n    <tr>\n      <th>3a9882c98205</th>\n      <td>0.0</td>\n      <td>0.0</td>\n      <td>0.0</td>\n      <td>0.0</td>\n      <td>0.0</td>\n      <td>0.000000</td>\n      <td>3.900907</td>\n      <td>0.000000</td>\n      <td>0.000000</td>\n      <td>4.583891</td>\n      <td>...</td>\n      <td>0.000000</td>\n      <td>0.000000</td>\n      <td>4.583891</td>\n      <td>4.985945</td>\n      <td>0.0</td>\n      <td>0.0</td>\n      <td>0.000000</td>\n      <td>0.000000</td>\n      <td>0.000000</td>\n      <td>3.900907</td>\n    </tr>\n    <tr>\n      <th>c91b6b2ccd3d</th>\n      <td>0.0</td>\n      <td>0.0</td>\n      <td>0.0</td>\n      <td>0.0</td>\n      <td>0.0</td>\n      <td>0.000000</td>\n      <td>0.000000</td>\n      <td>0.000000</td>\n      <td>0.000000</td>\n      <td>0.000000</td>\n      <td>...</td>\n      <td>4.189502</td>\n      <td>0.000000</td>\n      <td>0.000000</td>\n      <td>4.189502</td>\n      <td>0.0</td>\n      <td>0.0</td>\n      <td>0.000000</td>\n      <td>0.000000</td>\n      <td>4.189502</td>\n      <td>4.189502</td>\n    </tr>\n  </tbody>\n</table>\n<p>70988 rows × 22050 columns</p>\n</div>"
     },
     "execution_count": 69,
     "metadata": {},
     "output_type": "execute_result"
    }
   ],
   "source": [
    "df_train_cite_inputs"
   ],
   "metadata": {
    "collapsed": false
   }
  }
 ],
 "metadata": {
  "kernelspec": {
   "display_name": "Python 3",
   "language": "python",
   "name": "python3"
  },
  "language_info": {
   "codemirror_mode": {
    "name": "ipython",
    "version": 2
   },
   "file_extension": ".py",
   "mimetype": "text/x-python",
   "name": "python",
   "nbconvert_exporter": "python",
   "pygments_lexer": "ipython2",
   "version": "2.7.6"
  }
 },
 "nbformat": 4,
 "nbformat_minor": 0
}
